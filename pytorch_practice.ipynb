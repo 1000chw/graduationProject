{
 "cells": [
  {
   "cell_type": "code",
   "id": "initial_id",
   "metadata": {
    "collapsed": true,
    "ExecuteTime": {
     "end_time": "2024-09-24T08:47:35.937084Z",
     "start_time": "2024-09-24T08:47:35.278925Z"
    }
   },
   "source": [
    "import torch\n",
    "x = torch.randn(5, 3)\n",
    "print(x)"
   ],
   "outputs": [
    {
     "name": "stdout",
     "output_type": "stream",
     "text": [
      "tensor([[-0.4137, -0.9248, -1.9766],\n",
      "        [ 0.1419, -0.5050,  0.2077],\n",
      "        [-2.2745,  0.4705, -0.6562],\n",
      "        [ 0.8703, -0.9895, -0.3580],\n",
      "        [-0.2099,  0.0256, -1.5776]])\n"
     ]
    }
   ],
   "execution_count": 1
  },
  {
   "metadata": {},
   "cell_type": "code",
   "outputs": [],
   "execution_count": null,
   "source": "",
   "id": "8e011429490459fc"
  }
 ],
 "metadata": {
  "kernelspec": {
   "display_name": "Python 3",
   "language": "python",
   "name": "python3"
  },
  "language_info": {
   "codemirror_mode": {
    "name": "ipython",
    "version": 2
   },
   "file_extension": ".py",
   "mimetype": "text/x-python",
   "name": "python",
   "nbconvert_exporter": "python",
   "pygments_lexer": "ipython2",
   "version": "2.7.6"
  }
 },
 "nbformat": 4,
 "nbformat_minor": 5
}
